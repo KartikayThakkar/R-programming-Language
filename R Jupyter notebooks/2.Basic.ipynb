{
 "cells": [
  {
   "cell_type": "code",
   "execution_count": 1,
   "metadata": {},
   "outputs": [
    {
     "name": "stdout",
     "output_type": "stream",
     "text": [
      "Enter first number : 3\n",
      "Enter second number : 4\n",
      "[1] 7\n"
     ]
    }
   ],
   "source": [
    "# a <- 12\n",
    "# b <- 11\n",
    "\n",
    "# By default input will be in character type\n",
    "a <- as.integer(readline(prompt = \"Enter first number : \"))\n",
    "b <- as.integer(readline(prompt = \"Enter second number : \"))\n",
    "\n",
    "result <- a + b\n",
    "\n",
    "print(result)"
   ]
  },
  {
   "cell_type": "code",
   "execution_count": 2,
   "metadata": {},
   "outputs": [
    {
     "name": "stdout",
     "output_type": "stream",
     "text": [
      "[1] \"Number is odd\"\n"
     ]
    }
   ],
   "source": [
    "a <- 11\n",
    "\n",
    " if(a %% 2 == 0){\n",
    "   print(\"Number is even\")\n",
    " }\n",
    "else{\n",
    "     print(\"Number is odd\")\n",
    "}"
   ]
  },
  {
   "cell_type": "markdown",
   "metadata": {},
   "source": [
    "# Loops"
   ]
  },
  {
   "cell_type": "markdown",
   "metadata": {},
   "source": [
    "## for(initilization; condition; inc/dec){\n",
    "##   Logic\n",
    "## }\n"
   ]
  },
  {
   "cell_type": "code",
   "execution_count": null,
   "metadata": {},
   "outputs": [],
   "source": [
    " for (val in 1:10){\n",
    "   print(val)\n",
    " }"
   ]
  },
  {
   "cell_type": "code",
   "execution_count": 8,
   "metadata": {},
   "outputs": [
    {
     "name": "stdout",
     "output_type": "stream",
     "text": [
      "[1] 2\n",
      "[1] 4\n",
      "[1] 5\n",
      "[1] 6\n",
      "[1] 4\n",
      "[1] 5\n",
      "[1] 6\n",
      "[1] 6\n",
      "[1] 9\n"
     ]
    }
   ],
   "source": [
    "x <- c(2,4,5,6,4,5,6,6,9)\n",
    " for (val in x){\n",
    "   print(val)\n",
    " }"
   ]
  },
  {
   "cell_type": "code",
   "execution_count": 9,
   "metadata": {},
   "outputs": [
    {
     "name": "stdout",
     "output_type": "stream",
     "text": [
      "[1] 2\n",
      "[1] 4\n",
      "[1] 6\n",
      "[1] 4\n",
      "[1] 6\n",
      "[1] 6\n"
     ]
    }
   ],
   "source": [
    "for (val in x){\n",
    "  if(val %% 2 == 0){\n",
    "    print(val)\n",
    "  }\n",
    "}\n"
   ]
  },
  {
   "cell_type": "code",
   "execution_count": null,
   "metadata": {},
   "outputs": [],
   "source": [
    "x <- 0\n",
    "\n",
    " while(TRUE){\n",
    "print(x)\n",
    " }\n"
   ]
  },
  {
   "cell_type": "code",
   "execution_count": null,
   "metadata": {},
   "outputs": [],
   "source": [
    "x=0\n",
    "while(x < 10){\n",
    "  print(x)\n",
    "  x = x+1\n",
    "}"
   ]
  },
  {
   "cell_type": "code",
   "execution_count": null,
   "metadata": {},
   "outputs": [],
   "source": [
    "fib Series - 0 1 1 2 3 5 8 13 21 34\n",
    "\n",
    "a <- 1\n",
    "b <- 0\n",
    "temp <- a\n",
    "\n",
    "while (b < 100) {\n",
    "   if(b == 2) {\n",
    "     next\n",
    "   }\n",
    "   print(b)\n",
    "   temp = a\n",
    "   a = b\n",
    "   b = temp + b\n",
    " }\n"
   ]
  },
  {
   "cell_type": "code",
   "execution_count": null,
   "metadata": {},
   "outputs": [],
   "source": [
    "for (val in 1:10){\n",
    "  if (val == 5) {\n",
    "    next\n",
    "  }\n",
    "  print(val)\n",
    "}\n"
   ]
  },
  {
   "cell_type": "markdown",
   "metadata": {},
   "source": [
    "# break, next\n",
    "##                   break - will exit the current loop\n",
    "##                   next - will skip the current iteration\n",
    "\n"
   ]
  },
  {
   "cell_type": "code",
   "execution_count": null,
   "metadata": {},
   "outputs": [],
   "source": []
  },
  {
   "cell_type": "markdown",
   "metadata": {},
   "source": [
    "# Logical Operator - \n",
    "###                   and - &&\n",
    "###                   or -  ||\n",
    "###                   not - !"
   ]
  },
  {
   "cell_type": "code",
   "execution_count": null,
   "metadata": {},
   "outputs": [],
   "source": [
    "#Simple chat example\n",
    "username = readline(prompt = \"Enter your name : \")\n",
    "\n",
    "while (TRUE) {\n",
    "  usermsg = readline(prompt = \"Enter your message : \")\n",
    "  if(usermsg == \"hi\" || usermsg == \"Hi\") {\n",
    "    print(paste(\"Hello\",username))\n",
    "  } else if(usermsg == \"bye\" || usermsg == \"Bye\"){\n",
    "    print(paste(\"Bye\",username))\n",
    "    break\n",
    "  }else {\n",
    "    print(\"I don't understand\")\n",
    "  }  \n",
    "}"
   ]
  },
  {
   "cell_type": "code",
   "execution_count": null,
   "metadata": {},
   "outputs": [],
   "source": []
  }
 ],
 "metadata": {
  "kernelspec": {
   "display_name": "R",
   "language": "R",
   "name": "ir"
  },
  "language_info": {
   "codemirror_mode": "r",
   "file_extension": ".r",
   "mimetype": "text/x-r-source",
   "name": "R",
   "pygments_lexer": "r",
   "version": "3.4.3"
  }
 },
 "nbformat": 4,
 "nbformat_minor": 2
}
