{
 "cells": [
  {
   "cell_type": "markdown",
   "metadata": {},
   "source": [
    "# Functions"
   ]
  },
  {
   "cell_type": "raw",
   "metadata": {},
   "source": [
    " add <- function(){\n",
    "  print(\"This is add function...\")\n",
    " }\n",
    " \n",
    "add()"
   ]
  },
  {
   "cell_type": "code",
   "execution_count": 5,
   "metadata": {
    "scrolled": true
   },
   "outputs": [
    {
     "name": "stdout",
     "output_type": "stream",
     "text": [
      "Enter first number : 3\n",
      "Enter second number : 4\n",
      "[1] 3\n",
      "[1] 7\n"
     ]
    }
   ],
   "source": [
    "num_1 = as.integer(readline(prompt = \"Enter first number : \"))\n",
    "num_2 = as.integer(readline(prompt = \"Enter second number : \"))\n",
    "\n",
    "# Default Argument\n",
    "add <- function(x,y=0){\n",
    "  result = x + y\n",
    "  #print(paste(\"Result is\",result))\n",
    "  return (result)  \n",
    "}\n",
    "\n",
    "# add(num_1,num_2)\n",
    "print(add(num_1))\n",
    "\n",
    "print(add(num_1,num_2))"
   ]
  },
  {
   "cell_type": "code",
   "execution_count": null,
   "metadata": {},
   "outputs": [],
   "source": [
    "You have to include print() when you want to produce output from within a function. For example:\n",
    "\n",
    "x <- function(){\n",
    "       speed <- 31\n",
    "       paste(\"Your speed is\", speed)\n",
    "       y = 3\n",
    "  }\n",
    "won't print anything but this will:\n",
    "\n",
    "x <- function(){\n",
    " speed <- 31\n",
    "  print(paste(\"Your speed is\", speed))\n",
    "  y = 3\n",
    "}"
   ]
  },
  {
   "cell_type": "markdown",
   "metadata": {},
   "source": [
    "# Return"
   ]
  },
  {
   "cell_type": "code",
   "execution_count": 8,
   "metadata": {},
   "outputs": [
    {
     "name": "stdout",
     "output_type": "stream",
     "text": [
      "[1] \"Odd\"\n"
     ]
    }
   ],
   "source": [
    "even_num <- function(num){\n",
    "  \n",
    "  if(num %% 2 == 0){\n",
    "    result <- 'Even'\n",
    "  } else{\n",
    "    result <- 'Odd'\n",
    "  } \n",
    "  \n",
    "  return(result)\n",
    "}\n",
    "\n",
    "n = even_num(13)\n",
    "print(n)"
   ]
  },
  {
   "cell_type": "markdown",
   "metadata": {},
   "source": [
    "# Return Example"
   ]
  },
  {
   "cell_type": "code",
   "execution_count": 9,
   "metadata": {},
   "outputs": [
    {
     "name": "stdout",
     "output_type": "stream",
     "text": [
      "[1] \"101 Ram TCS\"\n",
      "[1] \"Ram\"\n"
     ]
    }
   ],
   "source": [
    "emp <- function(){\n",
    "  id <- 101\n",
    "  name <- 'Ram'\n",
    "  company <- 'TCS'\n",
    "  print(paste(id,name,company))\n",
    "  return(name)\n",
    "}\n",
    "\n",
    "x = emp()\n",
    "print(x)"
   ]
  },
  {
   "cell_type": "markdown",
   "metadata": {},
   "source": [
    "# Infix Operator"
   ]
  },
  {
   "cell_type": "code",
   "execution_count": 10,
   "metadata": {},
   "outputs": [],
   "source": [
    "# Infix Operator\n",
    "# Pre defined\n",
    "# User defined\n",
    "\n",
    "'%divisible%' <- function(x,y){\n",
    "  if (x %% y == 0) return(TRUE)\n",
    "  else return(FALSE)\n",
    "}"
   ]
  },
  {
   "cell_type": "markdown",
   "metadata": {},
   "source": [
    "# Switch Case"
   ]
  },
  {
   "cell_type": "code",
   "execution_count": 11,
   "metadata": {},
   "outputs": [
    {
     "name": "stdout",
     "output_type": "stream",
     "text": [
      "[1] \"1. Add\"\n",
      "[1] \"2. Sub\"\n",
      "[1] \"3. Div\"\n",
      "[1] \"4. Mul\"\n",
      "Enter your choice [1/2/3/4] : 1\n",
      "Enter first number : 3\n",
      "Enter second number : 44\n",
      "[1] 47\n"
     ]
    }
   ],
   "source": [
    "# Switch Case\n",
    "\n",
    "add <- function(x,y){\n",
    "  return(x + y)\n",
    "}\n",
    "\n",
    "sub <- function(x,y){\n",
    "  return(x - y)\n",
    "}\n",
    "\n",
    "div <- function(x,y){\n",
    "  return(x / y)\n",
    "}\n",
    "\n",
    "mul <- function(x,y){\n",
    "  return(x * y)\n",
    "}\n",
    "\n",
    "print(\"1. Add\")\n",
    "print(\"2. Sub\")\n",
    "print(\"3. Div\")\n",
    "print(\"4. Mul\")\n",
    "\n",
    "choice = as.integer(readline(prompt = \"Enter your choice [1/2/3/4] : \"))\n",
    "num_1 = as.integer(readline(prompt = \"Enter first number : \"))\n",
    "num_2 = as.integer(readline(prompt = \"Enter second number : \"))\n",
    "\n",
    "result <- switch(choice, add(num_1,num_2), sub(num_1,num_2), div(num_1,num_2), mul(num_1,num_2))\n",
    "print(result)"
   ]
  },
  {
   "cell_type": "markdown",
   "metadata": {},
   "source": [
    "# Variable Scope"
   ]
  },
  {
   "cell_type": "code",
   "execution_count": 12,
   "metadata": {},
   "outputs": [
    {
     "name": "stdout",
     "output_type": "stream",
     "text": [
      "[1] 0\n",
      "[1] 31\n",
      "[1] 0\n"
     ]
    }
   ],
   "source": [
    "# Global Scope\n",
    "# Local Scope\n",
    "\n",
    "sum_1 <- 0\n",
    "\n",
    "add <- function(){\n",
    "  # Local Variables\n",
    "  # Cannot be used outside this function\n",
    "  print(sum_1)\n",
    "  x <- 19\n",
    "  y <- 12\n",
    "  sum_1 <- x + y\n",
    "  print(sum_1)\n",
    "}\n",
    "\n",
    "add()\n",
    "\n",
    "print(sum_1)"
   ]
  },
  {
   "cell_type": "markdown",
   "metadata": {},
   "source": [
    "# Nested Function"
   ]
  },
  {
   "cell_type": "code",
   "execution_count": 13,
   "metadata": {},
   "outputs": [
    {
     "name": "stdout",
     "output_type": "stream",
     "text": [
      "[1] \"Sum is 22\"\n",
      "[1] \"Sub is -2\"\n"
     ]
    }
   ],
   "source": [
    "outer <- function(){\n",
    "  \n",
    "  x <- 10\n",
    "  y <- 12\n",
    "  \n",
    "  add <- function(){\n",
    "    result <- x + y\n",
    "    print(paste(\"Sum is\",result))\n",
    "  }\n",
    "  sub <- function(){\n",
    "    result <- x - y\n",
    "    print(paste(\"Sub is\",result))\n",
    "  }\n",
    "  \n",
    "  add()\n",
    "  sub()\n",
    "}\n",
    "\n",
    "outer()"
   ]
  },
  {
   "cell_type": "markdown",
   "metadata": {},
   "source": [
    "# Global variable"
   ]
  },
  {
   "cell_type": "code",
   "execution_count": 14,
   "metadata": {},
   "outputs": [
    {
     "name": "stdout",
     "output_type": "stream",
     "text": [
      "[1] 12\n"
     ]
    }
   ],
   "source": [
    "outer <- function(){\n",
    "  x <- 10\n",
    "  \n",
    "  inner <- function(){\n",
    "    # Global variable\n",
    "    y <<- 12\n",
    "  }\n",
    "  \n",
    "  inner()\n",
    "  \n",
    "}\n",
    "\n",
    "outer()\n",
    "\n",
    "# print(x)\n",
    "print(y)"
   ]
  },
  {
   "cell_type": "markdown",
   "metadata": {},
   "source": [
    "# Closures"
   ]
  },
  {
   "cell_type": "code",
   "execution_count": 15,
   "metadata": {},
   "outputs": [
    {
     "name": "stdout",
     "output_type": "stream",
     "text": [
      "[1] \"Outer\"\n",
      "[1] \"Inner\"\n"
     ]
    }
   ],
   "source": [
    "# Closures\n",
    "outer <- function(){\n",
    "  print(\"Outer\")\n",
    "  \n",
    "  inner <- function(){\n",
    "    print(\"Inner\")\n",
    "  }\n",
    "  \n",
    "  return(inner)\n",
    "  # return(12)\n",
    "  \n",
    "}\n",
    "\n",
    "i = outer()\n",
    "i()"
   ]
  },
  {
   "cell_type": "markdown",
   "metadata": {},
   "source": [
    "## Closure_2"
   ]
  },
  {
   "cell_type": "code",
   "execution_count": 16,
   "metadata": {},
   "outputs": [],
   "source": [
    "outer <- function(){\n",
    "  x <- 10\n",
    "  y <- 12\n",
    "  inner <- function(z){\n",
    "    result <- x + y + z\n",
    "    print(result)\n",
    "    # return(result)\n",
    "  }\n",
    "  # inner()\n",
    "  return(inner)\n",
    "}\n",
    "\n",
    "i = outer()\n",
    "\n",
    "# inner = outer()\n",
    "# print(inner)"
   ]
  },
  {
   "cell_type": "code",
   "execution_count": null,
   "metadata": {},
   "outputs": [],
   "source": []
  }
 ],
 "metadata": {
  "kernelspec": {
   "display_name": "R",
   "language": "R",
   "name": "ir"
  },
  "language_info": {
   "codemirror_mode": "r",
   "file_extension": ".r",
   "mimetype": "text/x-r-source",
   "name": "R",
   "pygments_lexer": "r",
   "version": "3.4.3"
  }
 },
 "nbformat": 4,
 "nbformat_minor": 2
}
