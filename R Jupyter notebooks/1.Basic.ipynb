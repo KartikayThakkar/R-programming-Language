{
 "cells": [
  {
   "cell_type": "markdown",
   "metadata": {},
   "source": [
    "# What is R?\n",
    "A statistical programming language"
   ]
  },
  {
   "cell_type": "markdown",
   "metadata": {},
   "source": [
    "# What is Rstudio?\n",
    "\n",
    "It is a free,open source integrated development environment(IDE) for R\n",
    "RStudio helps to keep R more organized and it adds more functionality to it"
   ]
  },
  {
   "cell_type": "markdown",
   "metadata": {},
   "source": [
    "# R Markdown\n",
    "\n",
    "It allows u to embed R cde and R output directly into documents,pdf,HTML,Word etc"
   ]
  },
  {
   "cell_type": "code",
   "execution_count": null,
   "metadata": {},
   "outputs": [],
   "source": []
  },
  {
   "cell_type": "code",
   "execution_count": 1,
   "metadata": {},
   "outputs": [
    {
     "name": "stdout",
     "output_type": "stream",
     "text": [
      "[1] 18\n"
     ]
    }
   ],
   "source": [
    "x = 12 + 6.0\n",
    "print(x)"
   ]
  },
  {
   "cell_type": "code",
   "execution_count": 3,
   "metadata": {},
   "outputs": [
    {
     "name": "stdout",
     "output_type": "stream",
     "text": [
      "[1] 18\n"
     ]
    }
   ],
   "source": [
    "#we can also assign the value using arrow sign\n",
    "y <- 12 + 6.0\n",
    "print(y)"
   ]
  },
  {
   "cell_type": "code",
   "execution_count": 4,
   "metadata": {},
   "outputs": [
    {
     "data": {
      "text/html": [
       "<ol class=list-inline>\n",
       "\t<li>'x'</li>\n",
       "\t<li>'y'</li>\n",
       "</ol>\n"
      ],
      "text/latex": [
       "\\begin{enumerate*}\n",
       "\\item 'x'\n",
       "\\item 'y'\n",
       "\\end{enumerate*}\n"
      ],
      "text/markdown": [
       "1. 'x'\n",
       "2. 'y'\n",
       "\n",
       "\n"
      ],
      "text/plain": [
       "[1] \"x\" \"y\""
      ]
     },
     "metadata": {},
     "output_type": "display_data"
    }
   ],
   "source": [
    "# to see list of variables stored in the memory\n",
    "ls()"
   ]
  },
  {
   "cell_type": "code",
   "execution_count": 5,
   "metadata": {},
   "outputs": [],
   "source": [
    "# To remove variable y from the memory\n",
    "rm(y)"
   ]
  },
  {
   "cell_type": "code",
   "execution_count": 6,
   "metadata": {},
   "outputs": [
    {
     "data": {
      "text/html": [
       "'x'"
      ],
      "text/latex": [
       "'x'"
      ],
      "text/markdown": [
       "'x'"
      ],
      "text/plain": [
       "[1] \"x\""
      ]
     },
     "metadata": {},
     "output_type": "display_data"
    }
   ],
   "source": [
    "ls()"
   ]
  },
  {
   "cell_type": "code",
   "execution_count": 7,
   "metadata": {},
   "outputs": [
    {
     "data": {
      "text/html": [
       "18"
      ],
      "text/latex": [
       "18"
      ],
      "text/markdown": [
       "18"
      ],
      "text/plain": [
       "[1] 18"
      ]
     },
     "metadata": {},
     "output_type": "display_data"
    }
   ],
   "source": [
    "x.1  <- 1\n",
    "print(x)"
   ]
  },
  {
   "cell_type": "code",
   "execution_count": 9,
   "metadata": {},
   "outputs": [
    {
     "name": "stdout",
     "output_type": "stream",
     "text": [
      "[1] 1.666667\n"
     ]
    }
   ],
   "source": [
    "x = 5/3\n",
    "print(x)"
   ]
  },
  {
   "cell_type": "code",
   "execution_count": 10,
   "metadata": {},
   "outputs": [
    {
     "name": "stdout",
     "output_type": "stream",
     "text": [
      "[1] 25\n"
     ]
    }
   ],
   "source": [
    "x = 5^2\n",
    "print(x)"
   ]
  },
  {
   "cell_type": "code",
   "execution_count": 11,
   "metadata": {},
   "outputs": [
    {
     "name": "stdout",
     "output_type": "stream",
     "text": [
      "[1] 0.7071068\n"
     ]
    }
   ],
   "source": [
    "y=sqrt(1/2)\n",
    "print(y)"
   ]
  },
  {
   "cell_type": "code",
   "execution_count": 12,
   "metadata": {},
   "outputs": [
    {
     "name": "stdout",
     "output_type": "stream",
     "text": [
      "[1] 2.772589\n"
     ]
    }
   ],
   "source": [
    "z=log(16)\n",
    "print(z)"
   ]
  },
  {
   "cell_type": "code",
   "execution_count": 13,
   "metadata": {},
   "outputs": [
    {
     "name": "stdout",
     "output_type": "stream",
     "text": [
      "[1] 4\n"
     ]
    }
   ],
   "source": [
    "z=log2(16)\n",
    "print(z)"
   ]
  },
  {
   "cell_type": "code",
   "execution_count": 14,
   "metadata": {},
   "outputs": [
    {
     "name": "stdout",
     "output_type": "stream",
     "text": [
      "[1] 1\n"
     ]
    }
   ],
   "source": [
    "x= abs(-1)\n",
    "print(x)"
   ]
  },
  {
   "cell_type": "code",
   "execution_count": 16,
   "metadata": {},
   "outputs": [
    {
     "name": "stdout",
     "output_type": "stream",
     "text": [
      "[1] 1\n"
     ]
    }
   ],
   "source": [
    "x = 1\n",
    "print(x)"
   ]
  },
  {
   "cell_type": "code",
   "execution_count": 17,
   "metadata": {},
   "outputs": [
    {
     "name": "stdout",
     "output_type": "stream",
     "text": [
      "[1] 1 3 5 7 9\n"
     ]
    }
   ],
   "source": [
    "x = c(1,3,5,7,9)\n",
    "print(x)"
   ]
  },
  {
   "cell_type": "code",
   "execution_count": 18,
   "metadata": {},
   "outputs": [
    {
     "name": "stdout",
     "output_type": "stream",
     "text": [
      "[1] \"abcd\" \"efgh\" \"ijkl\"\n"
     ]
    }
   ],
   "source": [
    "x = c('abcd','efgh','ijkl')\n",
    "print(x)"
   ]
  },
  {
   "cell_type": "code",
   "execution_count": 19,
   "metadata": {},
   "outputs": [
    {
     "name": "stdout",
     "output_type": "stream",
     "text": [
      "[1] 2 3 4 5 6 7\n"
     ]
    }
   ],
   "source": [
    "# To print values from 2 to 7 \n",
    "#remember 7 bhi print hoga(whereas python me 7 nahi aata\n",
    "print(2:7)"
   ]
  },
  {
   "cell_type": "code",
   "execution_count": 20,
   "metadata": {},
   "outputs": [
    {
     "data": {
      "text/html": [
       "<ol class=list-inline>\n",
       "\t<li>1</li>\n",
       "\t<li>2</li>\n",
       "\t<li>3</li>\n",
       "\t<li>4</li>\n",
       "\t<li>5</li>\n",
       "\t<li>6</li>\n",
       "\t<li>7</li>\n",
       "</ol>\n"
      ],
      "text/latex": [
       "\\begin{enumerate*}\n",
       "\\item 1\n",
       "\\item 2\n",
       "\\item 3\n",
       "\\item 4\n",
       "\\item 5\n",
       "\\item 6\n",
       "\\item 7\n",
       "\\end{enumerate*}\n"
      ],
      "text/markdown": [
       "1. 1\n",
       "2. 2\n",
       "3. 3\n",
       "4. 4\n",
       "5. 5\n",
       "6. 6\n",
       "7. 7\n",
       "\n",
       "\n"
      ],
      "text/plain": [
       "[1] 1 2 3 4 5 6 7"
      ]
     },
     "metadata": {},
     "output_type": "display_data"
    }
   ],
   "source": [
    "#To print sequence  of numbers\n",
    "seq(from = 1,to = 7,by =1) #by means step size"
   ]
  },
  {
   "cell_type": "code",
   "execution_count": 21,
   "metadata": {},
   "outputs": [
    {
     "data": {
      "text/html": [
       "<ol class=list-inline>\n",
       "\t<li>1</li>\n",
       "\t<li>1.33333333333333</li>\n",
       "\t<li>1.66666666666667</li>\n",
       "\t<li>2</li>\n",
       "\t<li>2.33333333333333</li>\n",
       "\t<li>2.66666666666667</li>\n",
       "\t<li>3</li>\n",
       "\t<li>3.33333333333333</li>\n",
       "\t<li>3.66666666666667</li>\n",
       "\t<li>4</li>\n",
       "\t<li>4.33333333333333</li>\n",
       "\t<li>4.66666666666667</li>\n",
       "\t<li>5</li>\n",
       "\t<li>5.33333333333333</li>\n",
       "\t<li>5.66666666666667</li>\n",
       "\t<li>6</li>\n",
       "\t<li>6.33333333333333</li>\n",
       "\t<li>6.66666666666667</li>\n",
       "\t<li>7</li>\n",
       "</ol>\n"
      ],
      "text/latex": [
       "\\begin{enumerate*}\n",
       "\\item 1\n",
       "\\item 1.33333333333333\n",
       "\\item 1.66666666666667\n",
       "\\item 2\n",
       "\\item 2.33333333333333\n",
       "\\item 2.66666666666667\n",
       "\\item 3\n",
       "\\item 3.33333333333333\n",
       "\\item 3.66666666666667\n",
       "\\item 4\n",
       "\\item 4.33333333333333\n",
       "\\item 4.66666666666667\n",
       "\\item 5\n",
       "\\item 5.33333333333333\n",
       "\\item 5.66666666666667\n",
       "\\item 6\n",
       "\\item 6.33333333333333\n",
       "\\item 6.66666666666667\n",
       "\\item 7\n",
       "\\end{enumerate*}\n"
      ],
      "text/markdown": [
       "1. 1\n",
       "2. 1.33333333333333\n",
       "3. 1.66666666666667\n",
       "4. 2\n",
       "5. 2.33333333333333\n",
       "6. 2.66666666666667\n",
       "7. 3\n",
       "8. 3.33333333333333\n",
       "9. 3.66666666666667\n",
       "10. 4\n",
       "11. 4.33333333333333\n",
       "12. 4.66666666666667\n",
       "13. 5\n",
       "14. 5.33333333333333\n",
       "15. 5.66666666666667\n",
       "16. 6\n",
       "17. 6.33333333333333\n",
       "18. 6.66666666666667\n",
       "19. 7\n",
       "\n",
       "\n"
      ],
      "text/plain": [
       " [1] 1.000000 1.333333 1.666667 2.000000 2.333333 2.666667 3.000000 3.333333\n",
       " [9] 3.666667 4.000000 4.333333 4.666667 5.000000 5.333333 5.666667 6.000000\n",
       "[17] 6.333333 6.666667 7.000000"
      ]
     },
     "metadata": {},
     "output_type": "display_data"
    }
   ],
   "source": [
    "seq(from = 1,to = 7,by =1/3)"
   ]
  },
  {
   "cell_type": "code",
   "execution_count": 22,
   "metadata": {},
   "outputs": [
    {
     "data": {
      "text/html": [
       "<ol class=list-inline>\n",
       "\t<li>1</li>\n",
       "\t<li>1.25</li>\n",
       "\t<li>1.5</li>\n",
       "\t<li>1.75</li>\n",
       "\t<li>2</li>\n",
       "\t<li>2.25</li>\n",
       "\t<li>2.5</li>\n",
       "\t<li>2.75</li>\n",
       "\t<li>3</li>\n",
       "\t<li>3.25</li>\n",
       "\t<li>3.5</li>\n",
       "\t<li>3.75</li>\n",
       "\t<li>4</li>\n",
       "\t<li>4.25</li>\n",
       "\t<li>4.5</li>\n",
       "\t<li>4.75</li>\n",
       "\t<li>5</li>\n",
       "\t<li>5.25</li>\n",
       "\t<li>5.5</li>\n",
       "\t<li>5.75</li>\n",
       "\t<li>6</li>\n",
       "\t<li>6.25</li>\n",
       "\t<li>6.5</li>\n",
       "\t<li>6.75</li>\n",
       "\t<li>7</li>\n",
       "</ol>\n"
      ],
      "text/latex": [
       "\\begin{enumerate*}\n",
       "\\item 1\n",
       "\\item 1.25\n",
       "\\item 1.5\n",
       "\\item 1.75\n",
       "\\item 2\n",
       "\\item 2.25\n",
       "\\item 2.5\n",
       "\\item 2.75\n",
       "\\item 3\n",
       "\\item 3.25\n",
       "\\item 3.5\n",
       "\\item 3.75\n",
       "\\item 4\n",
       "\\item 4.25\n",
       "\\item 4.5\n",
       "\\item 4.75\n",
       "\\item 5\n",
       "\\item 5.25\n",
       "\\item 5.5\n",
       "\\item 5.75\n",
       "\\item 6\n",
       "\\item 6.25\n",
       "\\item 6.5\n",
       "\\item 6.75\n",
       "\\item 7\n",
       "\\end{enumerate*}\n"
      ],
      "text/markdown": [
       "1. 1\n",
       "2. 1.25\n",
       "3. 1.5\n",
       "4. 1.75\n",
       "5. 2\n",
       "6. 2.25\n",
       "7. 2.5\n",
       "8. 2.75\n",
       "9. 3\n",
       "10. 3.25\n",
       "11. 3.5\n",
       "12. 3.75\n",
       "13. 4\n",
       "14. 4.25\n",
       "15. 4.5\n",
       "16. 4.75\n",
       "17. 5\n",
       "18. 5.25\n",
       "19. 5.5\n",
       "20. 5.75\n",
       "21. 6\n",
       "22. 6.25\n",
       "23. 6.5\n",
       "24. 6.75\n",
       "25. 7\n",
       "\n",
       "\n"
      ],
      "text/plain": [
       " [1] 1.00 1.25 1.50 1.75 2.00 2.25 2.50 2.75 3.00 3.25 3.50 3.75 4.00 4.25 4.50\n",
       "[16] 4.75 5.00 5.25 5.50 5.75 6.00 6.25 6.50 6.75 7.00"
      ]
     },
     "metadata": {},
     "output_type": "display_data"
    }
   ],
   "source": [
    "seq(from = 1,to = 7,by = 0.25)"
   ]
  },
  {
   "cell_type": "code",
   "execution_count": 23,
   "metadata": {},
   "outputs": [
    {
     "data": {
      "text/html": [
       "<ol class=list-inline>\n",
       "\t<li>1</li>\n",
       "\t<li>1</li>\n",
       "\t<li>1</li>\n",
       "\t<li>1</li>\n",
       "\t<li>1</li>\n",
       "\t<li>1</li>\n",
       "\t<li>1</li>\n",
       "\t<li>1</li>\n",
       "\t<li>1</li>\n",
       "\t<li>1</li>\n",
       "</ol>\n"
      ],
      "text/latex": [
       "\\begin{enumerate*}\n",
       "\\item 1\n",
       "\\item 1\n",
       "\\item 1\n",
       "\\item 1\n",
       "\\item 1\n",
       "\\item 1\n",
       "\\item 1\n",
       "\\item 1\n",
       "\\item 1\n",
       "\\item 1\n",
       "\\end{enumerate*}\n"
      ],
      "text/markdown": [
       "1. 1\n",
       "2. 1\n",
       "3. 1\n",
       "4. 1\n",
       "5. 1\n",
       "6. 1\n",
       "7. 1\n",
       "8. 1\n",
       "9. 1\n",
       "10. 1\n",
       "\n",
       "\n"
      ],
      "text/plain": [
       " [1] 1 1 1 1 1 1 1 1 1 1"
      ]
     },
     "metadata": {},
     "output_type": "display_data"
    }
   ],
   "source": [
    "# to repeat 1 ten times\n",
    "rep(1,time=10)"
   ]
  },
  {
   "cell_type": "code",
   "execution_count": 24,
   "metadata": {},
   "outputs": [
    {
     "data": {
      "text/html": [
       "<ol class=list-inline>\n",
       "\t<li>'Kartikay'</li>\n",
       "\t<li>'Kartikay'</li>\n",
       "\t<li>'Kartikay'</li>\n",
       "\t<li>'Kartikay'</li>\n",
       "\t<li>'Kartikay'</li>\n",
       "</ol>\n"
      ],
      "text/latex": [
       "\\begin{enumerate*}\n",
       "\\item 'Kartikay'\n",
       "\\item 'Kartikay'\n",
       "\\item 'Kartikay'\n",
       "\\item 'Kartikay'\n",
       "\\item 'Kartikay'\n",
       "\\end{enumerate*}\n"
      ],
      "text/markdown": [
       "1. 'Kartikay'\n",
       "2. 'Kartikay'\n",
       "3. 'Kartikay'\n",
       "4. 'Kartikay'\n",
       "5. 'Kartikay'\n",
       "\n",
       "\n"
      ],
      "text/plain": [
       "[1] \"Kartikay\" \"Kartikay\" \"Kartikay\" \"Kartikay\" \"Kartikay\""
      ]
     },
     "metadata": {},
     "output_type": "display_data"
    }
   ],
   "source": [
    "rep('Kartikay',times=5)"
   ]
  },
  {
   "cell_type": "code",
   "execution_count": 25,
   "metadata": {},
   "outputs": [
    {
     "data": {
      "text/html": [
       "<ol class=list-inline>\n",
       "\t<li>1</li>\n",
       "\t<li>2</li>\n",
       "\t<li>3</li>\n",
       "\t<li>4</li>\n",
       "\t<li>1</li>\n",
       "\t<li>2</li>\n",
       "\t<li>3</li>\n",
       "\t<li>4</li>\n",
       "\t<li>1</li>\n",
       "\t<li>2</li>\n",
       "\t<li>3</li>\n",
       "\t<li>4</li>\n",
       "\t<li>1</li>\n",
       "\t<li>2</li>\n",
       "\t<li>3</li>\n",
       "\t<li>4</li>\n",
       "\t<li>1</li>\n",
       "\t<li>2</li>\n",
       "\t<li>3</li>\n",
       "\t<li>4</li>\n",
       "</ol>\n"
      ],
      "text/latex": [
       "\\begin{enumerate*}\n",
       "\\item 1\n",
       "\\item 2\n",
       "\\item 3\n",
       "\\item 4\n",
       "\\item 1\n",
       "\\item 2\n",
       "\\item 3\n",
       "\\item 4\n",
       "\\item 1\n",
       "\\item 2\n",
       "\\item 3\n",
       "\\item 4\n",
       "\\item 1\n",
       "\\item 2\n",
       "\\item 3\n",
       "\\item 4\n",
       "\\item 1\n",
       "\\item 2\n",
       "\\item 3\n",
       "\\item 4\n",
       "\\end{enumerate*}\n"
      ],
      "text/markdown": [
       "1. 1\n",
       "2. 2\n",
       "3. 3\n",
       "4. 4\n",
       "5. 1\n",
       "6. 2\n",
       "7. 3\n",
       "8. 4\n",
       "9. 1\n",
       "10. 2\n",
       "11. 3\n",
       "12. 4\n",
       "13. 1\n",
       "14. 2\n",
       "15. 3\n",
       "16. 4\n",
       "17. 1\n",
       "18. 2\n",
       "19. 3\n",
       "20. 4\n",
       "\n",
       "\n"
      ],
      "text/plain": [
       " [1] 1 2 3 4 1 2 3 4 1 2 3 4 1 2 3 4 1 2 3 4"
      ]
     },
     "metadata": {},
     "output_type": "display_data"
    }
   ],
   "source": [
    "rep(1:4,times=5)"
   ]
  },
  {
   "cell_type": "code",
   "execution_count": 27,
   "metadata": {},
   "outputs": [
    {
     "data": {
      "text/html": [
       "<ol class=list-inline>\n",
       "\t<li>2</li>\n",
       "\t<li>2.25</li>\n",
       "\t<li>2.5</li>\n",
       "\t<li>2.75</li>\n",
       "\t<li>3</li>\n",
       "\t<li>3.25</li>\n",
       "\t<li>3.5</li>\n",
       "\t<li>3.75</li>\n",
       "\t<li>4</li>\n",
       "\t<li>4.25</li>\n",
       "\t<li>4.5</li>\n",
       "\t<li>4.75</li>\n",
       "\t<li>5</li>\n",
       "\t<li>2</li>\n",
       "\t<li>2.25</li>\n",
       "\t<li>2.5</li>\n",
       "\t<li>2.75</li>\n",
       "\t<li>3</li>\n",
       "\t<li>3.25</li>\n",
       "\t<li>3.5</li>\n",
       "\t<li>3.75</li>\n",
       "\t<li>4</li>\n",
       "\t<li>4.25</li>\n",
       "\t<li>4.5</li>\n",
       "\t<li>4.75</li>\n",
       "\t<li>5</li>\n",
       "\t<li>2</li>\n",
       "\t<li>2.25</li>\n",
       "\t<li>2.5</li>\n",
       "\t<li>2.75</li>\n",
       "\t<li>3</li>\n",
       "\t<li>3.25</li>\n",
       "\t<li>3.5</li>\n",
       "\t<li>3.75</li>\n",
       "\t<li>4</li>\n",
       "\t<li>4.25</li>\n",
       "\t<li>4.5</li>\n",
       "\t<li>4.75</li>\n",
       "\t<li>5</li>\n",
       "\t<li>2</li>\n",
       "\t<li>2.25</li>\n",
       "\t<li>2.5</li>\n",
       "\t<li>2.75</li>\n",
       "\t<li>3</li>\n",
       "\t<li>3.25</li>\n",
       "\t<li>3.5</li>\n",
       "\t<li>3.75</li>\n",
       "\t<li>4</li>\n",
       "\t<li>4.25</li>\n",
       "\t<li>4.5</li>\n",
       "\t<li>4.75</li>\n",
       "\t<li>5</li>\n",
       "\t<li>2</li>\n",
       "\t<li>2.25</li>\n",
       "\t<li>2.5</li>\n",
       "\t<li>2.75</li>\n",
       "\t<li>3</li>\n",
       "\t<li>3.25</li>\n",
       "\t<li>3.5</li>\n",
       "\t<li>3.75</li>\n",
       "\t<li>4</li>\n",
       "\t<li>4.25</li>\n",
       "\t<li>4.5</li>\n",
       "\t<li>4.75</li>\n",
       "\t<li>5</li>\n",
       "</ol>\n"
      ],
      "text/latex": [
       "\\begin{enumerate*}\n",
       "\\item 2\n",
       "\\item 2.25\n",
       "\\item 2.5\n",
       "\\item 2.75\n",
       "\\item 3\n",
       "\\item 3.25\n",
       "\\item 3.5\n",
       "\\item 3.75\n",
       "\\item 4\n",
       "\\item 4.25\n",
       "\\item 4.5\n",
       "\\item 4.75\n",
       "\\item 5\n",
       "\\item 2\n",
       "\\item 2.25\n",
       "\\item 2.5\n",
       "\\item 2.75\n",
       "\\item 3\n",
       "\\item 3.25\n",
       "\\item 3.5\n",
       "\\item 3.75\n",
       "\\item 4\n",
       "\\item 4.25\n",
       "\\item 4.5\n",
       "\\item 4.75\n",
       "\\item 5\n",
       "\\item 2\n",
       "\\item 2.25\n",
       "\\item 2.5\n",
       "\\item 2.75\n",
       "\\item 3\n",
       "\\item 3.25\n",
       "\\item 3.5\n",
       "\\item 3.75\n",
       "\\item 4\n",
       "\\item 4.25\n",
       "\\item 4.5\n",
       "\\item 4.75\n",
       "\\item 5\n",
       "\\item 2\n",
       "\\item 2.25\n",
       "\\item 2.5\n",
       "\\item 2.75\n",
       "\\item 3\n",
       "\\item 3.25\n",
       "\\item 3.5\n",
       "\\item 3.75\n",
       "\\item 4\n",
       "\\item 4.25\n",
       "\\item 4.5\n",
       "\\item 4.75\n",
       "\\item 5\n",
       "\\item 2\n",
       "\\item 2.25\n",
       "\\item 2.5\n",
       "\\item 2.75\n",
       "\\item 3\n",
       "\\item 3.25\n",
       "\\item 3.5\n",
       "\\item 3.75\n",
       "\\item 4\n",
       "\\item 4.25\n",
       "\\item 4.5\n",
       "\\item 4.75\n",
       "\\item 5\n",
       "\\end{enumerate*}\n"
      ],
      "text/markdown": [
       "1. 2\n",
       "2. 2.25\n",
       "3. 2.5\n",
       "4. 2.75\n",
       "5. 3\n",
       "6. 3.25\n",
       "7. 3.5\n",
       "8. 3.75\n",
       "9. 4\n",
       "10. 4.25\n",
       "11. 4.5\n",
       "12. 4.75\n",
       "13. 5\n",
       "14. 2\n",
       "15. 2.25\n",
       "16. 2.5\n",
       "17. 2.75\n",
       "18. 3\n",
       "19. 3.25\n",
       "20. 3.5\n",
       "21. 3.75\n",
       "22. 4\n",
       "23. 4.25\n",
       "24. 4.5\n",
       "25. 4.75\n",
       "26. 5\n",
       "27. 2\n",
       "28. 2.25\n",
       "29. 2.5\n",
       "30. 2.75\n",
       "31. 3\n",
       "32. 3.25\n",
       "33. 3.5\n",
       "34. 3.75\n",
       "35. 4\n",
       "36. 4.25\n",
       "37. 4.5\n",
       "38. 4.75\n",
       "39. 5\n",
       "40. 2\n",
       "41. 2.25\n",
       "42. 2.5\n",
       "43. 2.75\n",
       "44. 3\n",
       "45. 3.25\n",
       "46. 3.5\n",
       "47. 3.75\n",
       "48. 4\n",
       "49. 4.25\n",
       "50. 4.5\n",
       "51. 4.75\n",
       "52. 5\n",
       "53. 2\n",
       "54. 2.25\n",
       "55. 2.5\n",
       "56. 2.75\n",
       "57. 3\n",
       "58. 3.25\n",
       "59. 3.5\n",
       "60. 3.75\n",
       "61. 4\n",
       "62. 4.25\n",
       "63. 4.5\n",
       "64. 4.75\n",
       "65. 5\n",
       "\n",
       "\n"
      ],
      "text/plain": [
       " [1] 2.00 2.25 2.50 2.75 3.00 3.25 3.50 3.75 4.00 4.25 4.50 4.75 5.00 2.00 2.25\n",
       "[16] 2.50 2.75 3.00 3.25 3.50 3.75 4.00 4.25 4.50 4.75 5.00 2.00 2.25 2.50 2.75\n",
       "[31] 3.00 3.25 3.50 3.75 4.00 4.25 4.50 4.75 5.00 2.00 2.25 2.50 2.75 3.00 3.25\n",
       "[46] 3.50 3.75 4.00 4.25 4.50 4.75 5.00 2.00 2.25 2.50 2.75 3.00 3.25 3.50 3.75\n",
       "[61] 4.00 4.25 4.50 4.75 5.00"
      ]
     },
     "metadata": {},
     "output_type": "display_data"
    }
   ],
   "source": [
    "rep(seq(from=2,to=5,by=.25),times=5)"
   ]
  },
  {
   "cell_type": "code",
   "execution_count": 28,
   "metadata": {},
   "outputs": [
    {
     "data": {
      "text/html": [
       "<ol class=list-inline>\n",
       "\t<li>'male'</li>\n",
       "\t<li>'female'</li>\n",
       "\t<li>'male'</li>\n",
       "\t<li>'female'</li>\n",
       "\t<li>'male'</li>\n",
       "\t<li>'female'</li>\n",
       "\t<li>'male'</li>\n",
       "\t<li>'female'</li>\n",
       "\t<li>'male'</li>\n",
       "\t<li>'female'</li>\n",
       "</ol>\n"
      ],
      "text/latex": [
       "\\begin{enumerate*}\n",
       "\\item 'male'\n",
       "\\item 'female'\n",
       "\\item 'male'\n",
       "\\item 'female'\n",
       "\\item 'male'\n",
       "\\item 'female'\n",
       "\\item 'male'\n",
       "\\item 'female'\n",
       "\\item 'male'\n",
       "\\item 'female'\n",
       "\\end{enumerate*}\n"
      ],
      "text/markdown": [
       "1. 'male'\n",
       "2. 'female'\n",
       "3. 'male'\n",
       "4. 'female'\n",
       "5. 'male'\n",
       "6. 'female'\n",
       "7. 'male'\n",
       "8. 'female'\n",
       "9. 'male'\n",
       "10. 'female'\n",
       "\n",
       "\n"
      ],
      "text/plain": [
       " [1] \"male\"   \"female\" \"male\"   \"female\" \"male\"   \"female\" \"male\"   \"female\"\n",
       " [9] \"male\"   \"female\""
      ]
     },
     "metadata": {},
     "output_type": "display_data"
    }
   ],
   "source": [
    "rep(c('male','female'),times=5)"
   ]
  },
  {
   "cell_type": "code",
   "execution_count": 29,
   "metadata": {},
   "outputs": [],
   "source": [
    "x=1:5"
   ]
  },
  {
   "cell_type": "code",
   "execution_count": 30,
   "metadata": {},
   "outputs": [
    {
     "data": {
      "text/html": [
       "<ol class=list-inline>\n",
       "\t<li>11</li>\n",
       "\t<li>12</li>\n",
       "\t<li>13</li>\n",
       "\t<li>14</li>\n",
       "\t<li>15</li>\n",
       "</ol>\n"
      ],
      "text/latex": [
       "\\begin{enumerate*}\n",
       "\\item 11\n",
       "\\item 12\n",
       "\\item 13\n",
       "\\item 14\n",
       "\\item 15\n",
       "\\end{enumerate*}\n"
      ],
      "text/markdown": [
       "1. 11\n",
       "2. 12\n",
       "3. 13\n",
       "4. 14\n",
       "5. 15\n",
       "\n",
       "\n"
      ],
      "text/plain": [
       "[1] 11 12 13 14 15"
      ]
     },
     "metadata": {},
     "output_type": "display_data"
    }
   ],
   "source": [
    "# to add 10 to every value of x\n",
    "x+10"
   ]
  },
  {
   "cell_type": "code",
   "execution_count": 31,
   "metadata": {},
   "outputs": [
    {
     "name": "stdout",
     "output_type": "stream",
     "text": [
      "[1] -9 -8 -7 -6 -5\n"
     ]
    }
   ],
   "source": [
    "x=x-10\n",
    "print(x)"
   ]
  },
  {
   "cell_type": "code",
   "execution_count": 32,
   "metadata": {},
   "outputs": [
    {
     "data": {
      "text/html": [
       "<ol class=list-inline>\n",
       "\t<li>10</li>\n",
       "\t<li>20</li>\n",
       "\t<li>30</li>\n",
       "\t<li>40</li>\n",
       "\t<li>50</li>\n",
       "</ol>\n"
      ],
      "text/latex": [
       "\\begin{enumerate*}\n",
       "\\item 10\n",
       "\\item 20\n",
       "\\item 30\n",
       "\\item 40\n",
       "\\item 50\n",
       "\\end{enumerate*}\n"
      ],
      "text/markdown": [
       "1. 10\n",
       "2. 20\n",
       "3. 30\n",
       "4. 40\n",
       "5. 50\n",
       "\n",
       "\n"
      ],
      "text/plain": [
       "[1] 10 20 30 40 50"
      ]
     },
     "metadata": {},
     "output_type": "display_data"
    }
   ],
   "source": [
    "x=1:5\n",
    "x*10"
   ]
  },
  {
   "cell_type": "code",
   "execution_count": 33,
   "metadata": {},
   "outputs": [
    {
     "data": {
      "text/html": [
       "<ol class=list-inline>\n",
       "\t<li>0.1</li>\n",
       "\t<li>0.2</li>\n",
       "\t<li>0.3</li>\n",
       "\t<li>0.4</li>\n",
       "\t<li>0.5</li>\n",
       "</ol>\n"
      ],
      "text/latex": [
       "\\begin{enumerate*}\n",
       "\\item 0.1\n",
       "\\item 0.2\n",
       "\\item 0.3\n",
       "\\item 0.4\n",
       "\\item 0.5\n",
       "\\end{enumerate*}\n"
      ],
      "text/markdown": [
       "1. 0.1\n",
       "2. 0.2\n",
       "3. 0.3\n",
       "4. 0.4\n",
       "5. 0.5\n",
       "\n",
       "\n"
      ],
      "text/plain": [
       "[1] 0.1 0.2 0.3 0.4 0.5"
      ]
     },
     "metadata": {},
     "output_type": "display_data"
    }
   ],
   "source": [
    "x/10"
   ]
  },
  {
   "cell_type": "code",
   "execution_count": 34,
   "metadata": {},
   "outputs": [
    {
     "data": {
      "text/html": [
       "<ol class=list-inline>\n",
       "\t<li>7</li>\n",
       "\t<li>9</li>\n",
       "\t<li>11</li>\n",
       "\t<li>13</li>\n",
       "\t<li>15</li>\n",
       "</ol>\n"
      ],
      "text/latex": [
       "\\begin{enumerate*}\n",
       "\\item 7\n",
       "\\item 9\n",
       "\\item 11\n",
       "\\item 13\n",
       "\\item 15\n",
       "\\end{enumerate*}\n"
      ],
      "text/markdown": [
       "1. 7\n",
       "2. 9\n",
       "3. 11\n",
       "4. 13\n",
       "5. 15\n",
       "\n",
       "\n"
      ],
      "text/plain": [
       "[1]  7  9 11 13 15"
      ]
     },
     "metadata": {},
     "output_type": "display_data"
    }
   ],
   "source": [
    "#If the 2 vectors are of same length ,then we may add/subtract/multiply/divide corresponding elements\n",
    "x=1:5\n",
    "y=6:10\n",
    "\n",
    "x+y"
   ]
  },
  {
   "cell_type": "code",
   "execution_count": 35,
   "metadata": {},
   "outputs": [
    {
     "data": {
      "text/html": [
       "<ol class=list-inline>\n",
       "\t<li>-5</li>\n",
       "\t<li>-5</li>\n",
       "\t<li>-5</li>\n",
       "\t<li>-5</li>\n",
       "\t<li>-5</li>\n",
       "</ol>\n"
      ],
      "text/latex": [
       "\\begin{enumerate*}\n",
       "\\item -5\n",
       "\\item -5\n",
       "\\item -5\n",
       "\\item -5\n",
       "\\item -5\n",
       "\\end{enumerate*}\n"
      ],
      "text/markdown": [
       "1. -5\n",
       "2. -5\n",
       "3. -5\n",
       "4. -5\n",
       "5. -5\n",
       "\n",
       "\n"
      ],
      "text/plain": [
       "[1] -5 -5 -5 -5 -5"
      ]
     },
     "metadata": {},
     "output_type": "display_data"
    }
   ],
   "source": [
    "x-y"
   ]
  },
  {
   "cell_type": "code",
   "execution_count": 36,
   "metadata": {},
   "outputs": [
    {
     "data": {
      "text/html": [
       "<ol class=list-inline>\n",
       "\t<li>6</li>\n",
       "\t<li>14</li>\n",
       "\t<li>24</li>\n",
       "\t<li>36</li>\n",
       "\t<li>50</li>\n",
       "</ol>\n"
      ],
      "text/latex": [
       "\\begin{enumerate*}\n",
       "\\item 6\n",
       "\\item 14\n",
       "\\item 24\n",
       "\\item 36\n",
       "\\item 50\n",
       "\\end{enumerate*}\n"
      ],
      "text/markdown": [
       "1. 6\n",
       "2. 14\n",
       "3. 24\n",
       "4. 36\n",
       "5. 50\n",
       "\n",
       "\n"
      ],
      "text/plain": [
       "[1]  6 14 24 36 50"
      ]
     },
     "metadata": {},
     "output_type": "display_data"
    }
   ],
   "source": [
    "x*y"
   ]
  },
  {
   "cell_type": "code",
   "execution_count": 38,
   "metadata": {},
   "outputs": [
    {
     "data": {
      "text/html": [
       "<ol class=list-inline>\n",
       "\t<li>0.166666666666667</li>\n",
       "\t<li>0.285714285714286</li>\n",
       "\t<li>0.375</li>\n",
       "\t<li>0.444444444444444</li>\n",
       "\t<li>0.5</li>\n",
       "</ol>\n"
      ],
      "text/latex": [
       "\\begin{enumerate*}\n",
       "\\item 0.166666666666667\n",
       "\\item 0.285714285714286\n",
       "\\item 0.375\n",
       "\\item 0.444444444444444\n",
       "\\item 0.5\n",
       "\\end{enumerate*}\n"
      ],
      "text/markdown": [
       "1. 0.166666666666667\n",
       "2. 0.285714285714286\n",
       "3. 0.375\n",
       "4. 0.444444444444444\n",
       "5. 0.5\n",
       "\n",
       "\n"
      ],
      "text/plain": [
       "[1] 0.1666667 0.2857143 0.3750000 0.4444444 0.5000000"
      ]
     },
     "metadata": {},
     "output_type": "display_data"
    }
   ],
   "source": [
    "x/y"
   ]
  },
  {
   "cell_type": "code",
   "execution_count": 46,
   "metadata": {},
   "outputs": [
    {
     "data": {
      "text/html": [
       "<ol class=list-inline>\n",
       "\t<li>6</li>\n",
       "\t<li>7</li>\n",
       "\t<li>8</li>\n",
       "\t<li>9</li>\n",
       "\t<li>10</li>\n",
       "</ol>\n"
      ],
      "text/latex": [
       "\\begin{enumerate*}\n",
       "\\item 6\n",
       "\\item 7\n",
       "\\item 8\n",
       "\\item 9\n",
       "\\item 10\n",
       "\\end{enumerate*}\n"
      ],
      "text/markdown": [
       "1. 6\n",
       "2. 7\n",
       "3. 8\n",
       "4. 9\n",
       "5. 10\n",
       "\n",
       "\n"
      ],
      "text/plain": [
       "[1]  6  7  8  9 10"
      ]
     },
     "metadata": {},
     "output_type": "display_data"
    }
   ],
   "source": [
    "y"
   ]
  },
  {
   "cell_type": "code",
   "execution_count": 47,
   "metadata": {},
   "outputs": [
    {
     "data": {
      "text/html": [
       "7"
      ],
      "text/latex": [
       "7"
      ],
      "text/markdown": [
       "7"
      ],
      "text/plain": [
       "[1] 7"
      ]
     },
     "metadata": {},
     "output_type": "display_data"
    }
   ],
   "source": [
    "#To extract 2nd element\n",
    "y[2]"
   ]
  },
  {
   "cell_type": "code",
   "execution_count": 48,
   "metadata": {},
   "outputs": [
    {
     "data": {
      "text/html": [
       "<ol class=list-inline>\n",
       "\t<li>6</li>\n",
       "\t<li>7</li>\n",
       "\t<li>8</li>\n",
       "\t<li>10</li>\n",
       "</ol>\n"
      ],
      "text/latex": [
       "\\begin{enumerate*}\n",
       "\\item 6\n",
       "\\item 7\n",
       "\\item 8\n",
       "\\item 10\n",
       "\\end{enumerate*}\n"
      ],
      "text/markdown": [
       "1. 6\n",
       "2. 7\n",
       "3. 8\n",
       "4. 10\n",
       "\n",
       "\n"
      ],
      "text/plain": [
       "[1]  6  7  8 10"
      ]
     },
     "metadata": {},
     "output_type": "display_data"
    }
   ],
   "source": [
    "#To extract all the elements except 4th element\n",
    "y[-4]"
   ]
  },
  {
   "cell_type": "code",
   "execution_count": 49,
   "metadata": {},
   "outputs": [
    {
     "data": {
      "text/html": [
       "<ol class=list-inline>\n",
       "\t<li>6</li>\n",
       "\t<li>7</li>\n",
       "\t<li>8</li>\n",
       "</ol>\n"
      ],
      "text/latex": [
       "\\begin{enumerate*}\n",
       "\\item 6\n",
       "\\item 7\n",
       "\\item 8\n",
       "\\end{enumerate*}\n"
      ],
      "text/markdown": [
       "1. 6\n",
       "2. 7\n",
       "3. 8\n",
       "\n",
       "\n"
      ],
      "text/plain": [
       "[1] 6 7 8"
      ]
     },
     "metadata": {},
     "output_type": "display_data"
    }
   ],
   "source": [
    " #To extract first 3 elements\n",
    "y[1:3]"
   ]
  },
  {
   "cell_type": "code",
   "execution_count": 50,
   "metadata": {},
   "outputs": [
    {
     "data": {
      "text/html": [
       "<ol class=list-inline>\n",
       "\t<li>6</li>\n",
       "\t<li>10</li>\n",
       "</ol>\n"
      ],
      "text/latex": [
       "\\begin{enumerate*}\n",
       "\\item 6\n",
       "\\item 10\n",
       "\\end{enumerate*}\n"
      ],
      "text/markdown": [
       "1. 6\n",
       "2. 10\n",
       "\n",
       "\n"
      ],
      "text/plain": [
       "[1]  6 10"
      ]
     },
     "metadata": {},
     "output_type": "display_data"
    }
   ],
   "source": [
    "#to print first and 5th element\n",
    "y[c(1,5)]"
   ]
  },
  {
   "cell_type": "code",
   "execution_count": 52,
   "metadata": {},
   "outputs": [
    {
     "data": {
      "text/html": [
       "<ol class=list-inline>\n",
       "\t<li>7</li>\n",
       "\t<li>8</li>\n",
       "\t<li>9</li>\n",
       "</ol>\n"
      ],
      "text/latex": [
       "\\begin{enumerate*}\n",
       "\\item 7\n",
       "\\item 8\n",
       "\\item 9\n",
       "\\end{enumerate*}\n"
      ],
      "text/markdown": [
       "1. 7\n",
       "2. 8\n",
       "3. 9\n",
       "\n",
       "\n"
      ],
      "text/plain": [
       "[1] 7 8 9"
      ]
     },
     "metadata": {},
     "output_type": "display_data"
    }
   ],
   "source": [
    "#to print all the elements except first and 5th element\n",
    "y[-c(1,5)]"
   ]
  },
  {
   "cell_type": "code",
   "execution_count": 53,
   "metadata": {},
   "outputs": [
    {
     "data": {
      "text/html": [
       "<ol class=list-inline>\n",
       "\t<li>6</li>\n",
       "\t<li>7</li>\n",
       "</ol>\n"
      ],
      "text/latex": [
       "\\begin{enumerate*}\n",
       "\\item 6\n",
       "\\item 7\n",
       "\\end{enumerate*}\n"
      ],
      "text/markdown": [
       "1. 6\n",
       "2. 7\n",
       "\n",
       "\n"
      ],
      "text/plain": [
       "[1] 6 7"
      ]
     },
     "metadata": {},
     "output_type": "display_data"
    }
   ],
   "source": [
    "# extract all the elements less than 8\n",
    "y[y<8]"
   ]
  },
  {
   "cell_type": "code",
   "execution_count": 54,
   "metadata": {},
   "outputs": [
    {
     "data": {
      "text/html": [
       "<table>\n",
       "<tbody>\n",
       "\t<tr><td>1</td><td>2</td><td>3</td></tr>\n",
       "\t<tr><td>4</td><td>5</td><td>6</td></tr>\n",
       "\t<tr><td>7</td><td>8</td><td>9</td></tr>\n",
       "</tbody>\n",
       "</table>\n"
      ],
      "text/latex": [
       "\\begin{tabular}{lll}\n",
       "\t 1 & 2 & 3\\\\\n",
       "\t 4 & 5 & 6\\\\\n",
       "\t 7 & 8 & 9\\\\\n",
       "\\end{tabular}\n"
      ],
      "text/markdown": [
       "\n",
       "| 1 | 2 | 3 | \n",
       "| 4 | 5 | 6 | \n",
       "| 7 | 8 | 9 | \n",
       "\n",
       "\n"
      ],
      "text/plain": [
       "     [,1] [,2] [,3]\n",
       "[1,] 1    2    3   \n",
       "[2,] 4    5    6   \n",
       "[3,] 7    8    9   "
      ]
     },
     "metadata": {},
     "output_type": "display_data"
    }
   ],
   "source": [
    "matrix(c(1,2,3,4,5,6,7,8,9),nrow=3,byrow=TRUE)    \n",
    "# byrow=TRUE means elements are added row wise"
   ]
  },
  {
   "cell_type": "code",
   "execution_count": 55,
   "metadata": {},
   "outputs": [
    {
     "data": {
      "text/html": [
       "<table>\n",
       "<tbody>\n",
       "\t<tr><td>1</td><td>4</td><td>7</td></tr>\n",
       "\t<tr><td>2</td><td>5</td><td>8</td></tr>\n",
       "\t<tr><td>3</td><td>6</td><td>9</td></tr>\n",
       "</tbody>\n",
       "</table>\n"
      ],
      "text/latex": [
       "\\begin{tabular}{lll}\n",
       "\t 1 & 4 & 7\\\\\n",
       "\t 2 & 5 & 8\\\\\n",
       "\t 3 & 6 & 9\\\\\n",
       "\\end{tabular}\n"
      ],
      "text/markdown": [
       "\n",
       "| 1 | 4 | 7 | \n",
       "| 2 | 5 | 8 | \n",
       "| 3 | 6 | 9 | \n",
       "\n",
       "\n"
      ],
      "text/plain": [
       "     [,1] [,2] [,3]\n",
       "[1,] 1    4    7   \n",
       "[2,] 2    5    8   \n",
       "[3,] 3    6    9   "
      ]
     },
     "metadata": {},
     "output_type": "display_data"
    }
   ],
   "source": [
    "matrix(c(1,2,3,4,5,6,7,8,9),nrow=3,byrow=FALSE)    \n",
    "# byrow=FALSE means elements are added column wise"
   ]
  },
  {
   "cell_type": "code",
   "execution_count": 56,
   "metadata": {},
   "outputs": [],
   "source": [
    "mat = matrix(c(1,2,3,4,5,6,7,8,9),nrow=3,byrow=TRUE) "
   ]
  },
  {
   "cell_type": "code",
   "execution_count": 57,
   "metadata": {},
   "outputs": [
    {
     "name": "stdout",
     "output_type": "stream",
     "text": [
      "     [,1] [,2] [,3]\n",
      "[1,]    1    2    3\n",
      "[2,]    4    5    6\n",
      "[3,]    7    8    9\n"
     ]
    }
   ],
   "source": [
    "print(mat)"
   ]
  },
  {
   "cell_type": "code",
   "execution_count": 58,
   "metadata": {},
   "outputs": [
    {
     "data": {
      "text/html": [
       "2"
      ],
      "text/latex": [
       "2"
      ],
      "text/markdown": [
       "2"
      ],
      "text/plain": [
       "[1] 2"
      ]
     },
     "metadata": {},
     "output_type": "display_data"
    }
   ],
   "source": [
    "# to extract element from row =1 1 column=2\n",
    "mat[1,2]"
   ]
  },
  {
   "cell_type": "code",
   "execution_count": 59,
   "metadata": {},
   "outputs": [
    {
     "data": {
      "text/html": [
       "<ol class=list-inline>\n",
       "\t<li>2</li>\n",
       "\t<li>8</li>\n",
       "</ol>\n"
      ],
      "text/latex": [
       "\\begin{enumerate*}\n",
       "\\item 2\n",
       "\\item 8\n",
       "\\end{enumerate*}\n"
      ],
      "text/markdown": [
       "1. 2\n",
       "2. 8\n",
       "\n",
       "\n"
      ],
      "text/plain": [
       "[1] 2 8"
      ]
     },
     "metadata": {},
     "output_type": "display_data"
    }
   ],
   "source": [
    "#from row = 1 and 3 ,column = 2\n",
    "mat[c(1,3),2]"
   ]
  },
  {
   "cell_type": "code",
   "execution_count": 60,
   "metadata": {},
   "outputs": [
    {
     "data": {
      "text/html": [
       "<ol class=list-inline>\n",
       "\t<li>4</li>\n",
       "\t<li>5</li>\n",
       "\t<li>6</li>\n",
       "</ol>\n"
      ],
      "text/latex": [
       "\\begin{enumerate*}\n",
       "\\item 4\n",
       "\\item 5\n",
       "\\item 6\n",
       "\\end{enumerate*}\n"
      ],
      "text/markdown": [
       "1. 4\n",
       "2. 5\n",
       "3. 6\n",
       "\n",
       "\n"
      ],
      "text/plain": [
       "[1] 4 5 6"
      ]
     },
     "metadata": {},
     "output_type": "display_data"
    }
   ],
   "source": [
    "#2nd row\n",
    "mat[2,]"
   ]
  },
  {
   "cell_type": "code",
   "execution_count": 61,
   "metadata": {},
   "outputs": [
    {
     "data": {
      "text/html": [
       "<ol class=list-inline>\n",
       "\t<li>2</li>\n",
       "\t<li>5</li>\n",
       "\t<li>8</li>\n",
       "</ol>\n"
      ],
      "text/latex": [
       "\\begin{enumerate*}\n",
       "\\item 2\n",
       "\\item 5\n",
       "\\item 8\n",
       "\\end{enumerate*}\n"
      ],
      "text/markdown": [
       "1. 2\n",
       "2. 5\n",
       "3. 8\n",
       "\n",
       "\n"
      ],
      "text/plain": [
       "[1] 2 5 8"
      ]
     },
     "metadata": {},
     "output_type": "display_data"
    }
   ],
   "source": [
    "#2nd column\n",
    "mat[,2]"
   ]
  },
  {
   "cell_type": "code",
   "execution_count": 62,
   "metadata": {},
   "outputs": [
    {
     "data": {
      "text/html": [
       "<table>\n",
       "<tbody>\n",
       "\t<tr><td>10</td><td>20</td><td>30</td></tr>\n",
       "\t<tr><td>40</td><td>50</td><td>60</td></tr>\n",
       "\t<tr><td>70</td><td>80</td><td>90</td></tr>\n",
       "</tbody>\n",
       "</table>\n"
      ],
      "text/latex": [
       "\\begin{tabular}{lll}\n",
       "\t 10 & 20 & 30\\\\\n",
       "\t 40 & 50 & 60\\\\\n",
       "\t 70 & 80 & 90\\\\\n",
       "\\end{tabular}\n"
      ],
      "text/markdown": [
       "\n",
       "| 10 | 20 | 30 | \n",
       "| 40 | 50 | 60 | \n",
       "| 70 | 80 | 90 | \n",
       "\n",
       "\n"
      ],
      "text/plain": [
       "     [,1] [,2] [,3]\n",
       "[1,] 10   20   30  \n",
       "[2,] 40   50   60  \n",
       "[3,] 70   80   90  "
      ]
     },
     "metadata": {},
     "output_type": "display_data"
    }
   ],
   "source": [
    "mat*10"
   ]
  },
  {
   "cell_type": "code",
   "execution_count": null,
   "metadata": {},
   "outputs": [],
   "source": []
  }
 ],
 "metadata": {
  "kernelspec": {
   "display_name": "R",
   "language": "R",
   "name": "ir"
  },
  "language_info": {
   "codemirror_mode": "r",
   "file_extension": ".r",
   "mimetype": "text/x-r-source",
   "name": "R",
   "pygments_lexer": "r",
   "version": "3.4.3"
  }
 },
 "nbformat": 4,
 "nbformat_minor": 2
}
