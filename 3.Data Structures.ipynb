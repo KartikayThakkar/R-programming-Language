{
 "cells": [
  {
   "cell_type": "markdown",
   "metadata": {},
   "source": [
    "# List          - Contains any type of data\n",
    "# DataFrame     - Contains data in row column (tabular) format\n",
    "# Vector        - 1D collection of elements\n",
    "# Factor        - Collection of categorical type of data\n",
    "# Matrix        - Multi-dimensional type of data (row x column)\n",
    "# Array         - Collection of similar type of data"
   ]
  },
  {
   "cell_type": "code",
   "execution_count": null,
   "metadata": {},
   "outputs": [],
   "source": []
  },
  {
   "cell_type": "markdown",
   "metadata": {},
   "source": [
    "# Vectors"
   ]
  },
  {
   "cell_type": "code",
   "execution_count": null,
   "metadata": {},
   "outputs": [],
   "source": []
  },
  {
   "cell_type": "code",
   "execution_count": 1,
   "metadata": {},
   "outputs": [],
   "source": [
    " vec <- c(12,34,56,78,11,7,8.7,9.6,'Hello')"
   ]
  },
  {
   "cell_type": "code",
   "execution_count": 3,
   "metadata": {},
   "outputs": [
    {
     "data": {
      "text/html": [
       "<ol class=list-inline>\n",
       "\t<li>'12'</li>\n",
       "\t<li>'34'</li>\n",
       "\t<li>'56'</li>\n",
       "\t<li>'78'</li>\n",
       "\t<li>'11'</li>\n",
       "\t<li>'7'</li>\n",
       "\t<li>'8.7'</li>\n",
       "\t<li>'9.6'</li>\n",
       "\t<li>'Hello'</li>\n",
       "</ol>\n"
      ],
      "text/latex": [
       "\\begin{enumerate*}\n",
       "\\item '12'\n",
       "\\item '34'\n",
       "\\item '56'\n",
       "\\item '78'\n",
       "\\item '11'\n",
       "\\item '7'\n",
       "\\item '8.7'\n",
       "\\item '9.6'\n",
       "\\item 'Hello'\n",
       "\\end{enumerate*}\n"
      ],
      "text/markdown": [
       "1. '12'\n",
       "2. '34'\n",
       "3. '56'\n",
       "4. '78'\n",
       "5. '11'\n",
       "6. '7'\n",
       "7. '8.7'\n",
       "8. '9.6'\n",
       "9. 'Hello'\n",
       "\n",
       "\n"
      ],
      "text/plain": [
       "[1] \"12\"    \"34\"    \"56\"    \"78\"    \"11\"    \"7\"     \"8.7\"   \"9.6\"   \"Hello\""
      ]
     },
     "metadata": {},
     "output_type": "display_data"
    }
   ],
   "source": [
    "vec"
   ]
  },
  {
   "cell_type": "code",
   "execution_count": 4,
   "metadata": {},
   "outputs": [
    {
     "name": "stdout",
     "output_type": "stream",
     "text": [
      "[1] 12 34 56 78 11  7  8  9\n"
     ]
    }
   ],
   "source": [
    "vec <- c(12,34,56,78,11,7,8,9)\n",
    "print(vec)"
   ]
  },
  {
   "cell_type": "code",
   "execution_count": 23,
   "metadata": {},
   "outputs": [
    {
     "name": "stdout",
     "output_type": "stream",
     "text": [
      "[1] 12\n"
     ]
    }
   ],
   "source": [
    "# Indexing\n",
    "print(vec[1])"
   ]
  },
  {
   "cell_type": "code",
   "execution_count": 24,
   "metadata": {},
   "outputs": [
    {
     "name": "stdout",
     "output_type": "stream",
     "text": [
      "[1] 12 34 56\n"
     ]
    }
   ],
   "source": [
    "\n",
    "# Slicing\n",
    "print(vec[1:3])\n"
   ]
  },
  {
   "cell_type": "code",
   "execution_count": 25,
   "metadata": {},
   "outputs": [
    {
     "name": "stdout",
     "output_type": "stream",
     "text": [
      "[1] 15 34 56 78 11  7  8  9\n"
     ]
    }
   ],
   "source": [
    "# Replace\n",
    "vec[1] <- 15\n",
    "print(vec)"
   ]
  },
  {
   "cell_type": "code",
   "execution_count": 26,
   "metadata": {},
   "outputs": [
    {
     "name": "stdout",
     "output_type": "stream",
     "text": [
      " [1] 1.0 1.2 1.4 1.6 1.8 2.0 2.2 2.4 2.6 2.8 3.0 3.2 3.4 3.6 3.8 4.0 4.2 4.4 4.6\n",
      "[20] 4.8 5.0\n"
     ]
    }
   ],
   "source": [
    "vec_2 <- seq(1,5, by = 0.2)\n",
    "print(vec_2)"
   ]
  },
  {
   "cell_type": "code",
   "execution_count": 27,
   "metadata": {},
   "outputs": [
    {
     "name": "stdout",
     "output_type": "stream",
     "text": [
      " [1]  1.000000  2.272727  3.545455  4.818182  6.090909  7.363636  8.636364\n",
      " [8]  9.909091 11.181818 12.454545 13.727273 15.000000\n"
     ]
    }
   ],
   "source": [
    "vec_2 <- seq(1,15, length.out = 12)\n",
    "print(vec_2)"
   ]
  },
  {
   "cell_type": "code",
   "execution_count": null,
   "metadata": {},
   "outputs": [],
   "source": []
  },
  {
   "cell_type": "markdown",
   "metadata": {},
   "source": [
    "# Matrix"
   ]
  },
  {
   "cell_type": "code",
   "execution_count": 5,
   "metadata": {},
   "outputs": [
    {
     "name": "stdout",
     "output_type": "stream",
     "text": [
      "  X Y Z\n",
      "A 1 2 3\n",
      "B 4 5 6\n",
      "C 7 8 9\n"
     ]
    }
   ],
   "source": [
    "# By default matrix will be assigned acc to columns\n",
    "# mat_1 <- matrix(1:9, nrow = 3, ncol = 3)\n",
    "\n",
    "# mat_1 <- matrix(1:9, nrow = 3, ncol = 3, byrow = TRUE)\n",
    "\n",
    "mat_1 <- matrix(1:9, nrow = 3, ncol = 3, byrow = TRUE, dimnames = list(c('A','B','C'),c('X','Y','Z')))\n",
    "print(mat_1)"
   ]
  },
  {
   "cell_type": "code",
   "execution_count": null,
   "metadata": {},
   "outputs": [],
   "source": []
  },
  {
   "cell_type": "markdown",
   "metadata": {},
   "source": [
    "# List"
   ]
  },
  {
   "cell_type": "code",
   "execution_count": 6,
   "metadata": {},
   "outputs": [
    {
     "name": "stdout",
     "output_type": "stream",
     "text": [
      "$id\n",
      "[1] 101\n",
      "\n",
      "$name\n",
      "[1] \"Ram\"\n",
      "\n",
      "$company\n",
      "[1] \"TCS\"\n",
      "\n"
     ]
    }
   ],
   "source": [
    "list_1 = list('id'=101,'name'='Ram','company'='TCS')\n",
    "print(list_1)"
   ]
  },
  {
   "cell_type": "code",
   "execution_count": null,
   "metadata": {},
   "outputs": [],
   "source": []
  },
  {
   "cell_type": "markdown",
   "metadata": {},
   "source": [
    "# Dataframe"
   ]
  },
  {
   "cell_type": "code",
   "execution_count": 7,
   "metadata": {},
   "outputs": [
    {
     "name": "stdout",
     "output_type": "stream",
     "text": [
      "  id  name company\n",
      "1  1   Ram     TCS\n",
      "2  2 Shyam    Infy\n",
      "3  3  Anuj   Wipro\n",
      "4  4 Gopal   Apple\n"
     ]
    }
   ],
   "source": [
    "df <- data.frame('id'=1:4,'name'=c('Ram','Shyam','Anuj','Gopal'),'company'=c('TCS','Infy','Wipro','Apple'))\n",
    "print(df)"
   ]
  },
  {
   "cell_type": "code",
   "execution_count": 8,
   "metadata": {},
   "outputs": [
    {
     "name": "stdout",
     "output_type": "stream",
     "text": [
      "  id\n",
      "1  1\n",
      "2  2\n",
      "3  3\n",
      "4  4\n"
     ]
    }
   ],
   "source": [
    "# Printing single column\n",
    "print(df['id'])"
   ]
  },
  {
   "cell_type": "code",
   "execution_count": 9,
   "metadata": {},
   "outputs": [
    {
     "data": {
      "text/html": [
       "<ol class=list-inline>\n",
       "\t<li>'2'</li>\n",
       "\t<li>'Shyam'</li>\n",
       "\t<li>'Infy'</li>\n",
       "</ol>\n"
      ],
      "text/latex": [
       "\\begin{enumerate*}\n",
       "\\item '2'\n",
       "\\item 'Shyam'\n",
       "\\item 'Infy'\n",
       "\\end{enumerate*}\n"
      ],
      "text/markdown": [
       "1. '2'\n",
       "2. 'Shyam'\n",
       "3. 'Infy'\n",
       "\n",
       "\n"
      ],
      "text/plain": [
       "[1] \"2\"     \"Shyam\" \"Infy\" "
      ]
     },
     "metadata": {},
     "output_type": "display_data"
    }
   ],
   "source": [
    "# Print specific data\n",
    "df[df['id'] == 2]"
   ]
  },
  {
   "cell_type": "code",
   "execution_count": 10,
   "metadata": {},
   "outputs": [
    {
     "data": {
      "text/html": [
       "<ol class=list-inline>\n",
       "\t<li>'3'</li>\n",
       "\t<li>'4'</li>\n",
       "\t<li>'Anuj'</li>\n",
       "\t<li>'Gopal'</li>\n",
       "\t<li>'Wipro'</li>\n",
       "\t<li>'Apple'</li>\n",
       "</ol>\n"
      ],
      "text/latex": [
       "\\begin{enumerate*}\n",
       "\\item '3'\n",
       "\\item '4'\n",
       "\\item 'Anuj'\n",
       "\\item 'Gopal'\n",
       "\\item 'Wipro'\n",
       "\\item 'Apple'\n",
       "\\end{enumerate*}\n"
      ],
      "text/markdown": [
       "1. '3'\n",
       "2. '4'\n",
       "3. 'Anuj'\n",
       "4. 'Gopal'\n",
       "5. 'Wipro'\n",
       "6. 'Apple'\n",
       "\n",
       "\n"
      ],
      "text/plain": [
       "[1] \"3\"     \"4\"     \"Anuj\"  \"Gopal\" \"Wipro\" \"Apple\""
      ]
     },
     "metadata": {},
     "output_type": "display_data"
    }
   ],
   "source": [
    "df[df['id'] > 2]"
   ]
  },
  {
   "cell_type": "code",
   "execution_count": null,
   "metadata": {},
   "outputs": [],
   "source": []
  },
  {
   "cell_type": "markdown",
   "metadata": {},
   "source": [
    "# Array + Factors"
   ]
  },
  {
   "cell_type": "code",
   "execution_count": 11,
   "metadata": {},
   "outputs": [],
   "source": [
    "vec_1 <- c(2,3,4,5,6,8)\n",
    "vec_2 <- c(12,34,56,78,90,11,23,21,54,76)\n",
    "\n",
    "arr <- array(vec_1)"
   ]
  },
  {
   "cell_type": "code",
   "execution_count": 12,
   "metadata": {},
   "outputs": [
    {
     "data": {
      "text/html": [
       "<ol class=list-inline>\n",
       "\t<li>2</li>\n",
       "\t<li>3</li>\n",
       "\t<li>4</li>\n",
       "\t<li>5</li>\n",
       "\t<li>6</li>\n",
       "\t<li>8</li>\n",
       "</ol>\n"
      ],
      "text/latex": [
       "\\begin{enumerate*}\n",
       "\\item 2\n",
       "\\item 3\n",
       "\\item 4\n",
       "\\item 5\n",
       "\\item 6\n",
       "\\item 8\n",
       "\\end{enumerate*}\n"
      ],
      "text/markdown": [
       "1. 2\n",
       "2. 3\n",
       "3. 4\n",
       "4. 5\n",
       "5. 6\n",
       "6. 8\n",
       "\n",
       "\n"
      ],
      "text/plain": [
       "[1] 2 3 4 5 6 8"
      ]
     },
     "metadata": {},
     "output_type": "display_data"
    }
   ],
   "source": [
    "arr"
   ]
  },
  {
   "cell_type": "code",
   "execution_count": 13,
   "metadata": {},
   "outputs": [
    {
     "data": {
      "text/html": [
       "<ol class=list-inline>\n",
       "\t<li>2</li>\n",
       "\t<li>3</li>\n",
       "\t<li>4</li>\n",
       "\t<li>5</li>\n",
       "\t<li>6</li>\n",
       "\t<li>8</li>\n",
       "</ol>\n"
      ],
      "text/latex": [
       "\\begin{enumerate*}\n",
       "\\item 2\n",
       "\\item 3\n",
       "\\item 4\n",
       "\\item 5\n",
       "\\item 6\n",
       "\\item 8\n",
       "\\end{enumerate*}\n"
      ],
      "text/markdown": [
       "1. 2\n",
       "2. 3\n",
       "3. 4\n",
       "4. 5\n",
       "5. 6\n",
       "6. 8\n",
       "\n",
       "\n"
      ],
      "text/plain": [
       "[1] 2 3 4 5 6 8"
      ]
     },
     "metadata": {},
     "output_type": "display_data"
    }
   ],
   "source": [
    "vec_1"
   ]
  },
  {
   "cell_type": "code",
   "execution_count": 14,
   "metadata": {},
   "outputs": [
    {
     "name": "stdout",
     "output_type": "stream",
     "text": [
      " [1]  2  3  4  5  6  8 12 34 56 78 90 11 23 21 54 76\n"
     ]
    }
   ],
   "source": [
    "arr <- array(c(vec_1, vec_2))\n",
    "print(arr)"
   ]
  },
  {
   "cell_type": "code",
   "execution_count": 15,
   "metadata": {},
   "outputs": [
    {
     "name": "stdout",
     "output_type": "stream",
     "text": [
      ", , 1\n",
      "\n",
      "     [,1] [,2] [,3]\n",
      "[1,]    2    5   12\n",
      "[2,]    3    6   34\n",
      "[3,]    4    8   56\n",
      "\n",
      ", , 2\n",
      "\n",
      "     [,1] [,2] [,3]\n",
      "[1,]   78   23   76\n",
      "[2,]   90   21    2\n",
      "[3,]   11   54    3\n",
      "\n"
     ]
    }
   ],
   "source": [
    "arr <- array(c(vec_1, vec_2), dim = c(3,3,2))\n",
    "print(arr)"
   ]
  },
  {
   "cell_type": "code",
   "execution_count": 20,
   "metadata": {},
   "outputs": [],
   "source": [
    "# Factors - Categorical - Levels\n",
    "months <- c('Jan','Feb','Mar','Jan','Dec','April','Dec','Oct','Sep','May','July','May','June','Aug')\n",
    "\n",
    "fact <- factor(months)"
   ]
  },
  {
   "cell_type": "code",
   "execution_count": 21,
   "metadata": {},
   "outputs": [
    {
     "name": "stdout",
     "output_type": "stream",
     "text": [
      " [1] \"Jan\"   \"Feb\"   \"Mar\"   \"Jan\"   \"Dec\"   \"April\" \"Dec\"   \"Oct\"   \"Sep\"  \n",
      "[10] \"May\"   \"July\"  \"May\"   \"June\"  \"Aug\"  \n"
     ]
    }
   ],
   "source": [
    "print(months)"
   ]
  },
  {
   "cell_type": "code",
   "execution_count": 22,
   "metadata": {},
   "outputs": [
    {
     "name": "stdout",
     "output_type": "stream",
     "text": [
      " [1] Jan   Feb   Mar   Jan   Dec   April Dec   Oct   Sep   May   July  May  \n",
      "[13] June  Aug  \n",
      "Levels: April Aug Dec Feb Jan July June Mar May Oct Sep\n"
     ]
    }
   ],
   "source": [
    "print(fact)"
   ]
  },
  {
   "cell_type": "code",
   "execution_count": null,
   "metadata": {},
   "outputs": [],
   "source": []
  }
 ],
 "metadata": {
  "kernelspec": {
   "display_name": "R",
   "language": "R",
   "name": "ir"
  },
  "language_info": {
   "codemirror_mode": "r",
   "file_extension": ".r",
   "mimetype": "text/x-r-source",
   "name": "R",
   "pygments_lexer": "r",
   "version": "3.4.3"
  }
 },
 "nbformat": 4,
 "nbformat_minor": 2
}
